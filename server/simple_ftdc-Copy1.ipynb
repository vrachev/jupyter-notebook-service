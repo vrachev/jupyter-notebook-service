{
 "cells": [
  {
   "cell_type": "code",
   "execution_count": 1,
   "id": "453bfbc2-0d33-4c83-89af-9bad499d1968",
   "metadata": {},
   "outputs": [],
   "source": [
    "import copy\n",
    "import matplotlib\n",
    "import pandas\n",
    "import warnings\n",
    "import requests\n",
    "import scipy\n",
    "from scipy import stats\n",
    "import subprocess\n",
    "import numpy as np\n",
    "import numpy\n",
    "from matplotlib import pyplot as plt\n",
    "import json\n",
    "import seaborn\n",
    "import networkx as nx\n",
    "import curatorbin"
   ]
  },
  {
   "cell_type": "code",
   "execution_count": 2,
   "id": "73ed3662-2188-4a1f-bb3d-c6528536d112",
   "metadata": {
    "tags": [
     "parameters"
    ]
   },
   "outputs": [],
   "source": [
    "task_id = \"None\"\n",
    "metric_name = \"None\""
   ]
  }
 ],
 "metadata": {
  "kernelspec": {
   "display_name": "Python 3 (ipykernel)",
   "language": "python",
   "name": "python3"
  },
  "language_info": {
   "codemirror_mode": {
    "name": "ipython",
    "version": 3
   },
   "file_extension": ".py",
   "mimetype": "text/x-python",
   "name": "python",
   "nbconvert_exporter": "python",
   "pygments_lexer": "ipython3",
   "version": "3.9.6"
  }
 },
 "nbformat": 4,
 "nbformat_minor": 5
}
