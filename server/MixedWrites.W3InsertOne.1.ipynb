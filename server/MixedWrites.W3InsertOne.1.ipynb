{
 "cells": [
  {
   "cell_type": "code",
   "execution_count": 1,
   "id": "453bfbc2-0d33-4c83-89af-9bad499d1968",
   "metadata": {
    "execution": {
     "iopub.execute_input": "2021-10-19T17:55:02.506544Z",
     "iopub.status.busy": "2021-10-19T17:55:02.501957Z",
     "iopub.status.idle": "2021-10-19T17:55:03.942302Z",
     "shell.execute_reply": "2021-10-19T17:55:03.942710Z"
    },
    "papermill": {
     "duration": 1.476735,
     "end_time": "2021-10-19T17:55:03.942964",
     "exception": false,
     "start_time": "2021-10-19T17:55:02.466229",
     "status": "completed"
    },
    "tags": []
   },
   "outputs": [],
   "source": [
    "import copy\n",
    "import matplotlib\n",
    "import pandas\n",
    "import warnings\n",
    "import requests\n",
    "import scipy\n",
    "from scipy import stats\n",
    "import subprocess\n",
    "import numpy as np\n",
    "import numpy\n",
    "from matplotlib import pyplot as plt\n",
    "import json\n",
    "import seaborn\n",
    "import networkx as nx\n",
    "import curatorbin"
   ]
  },
  {
   "cell_type": "code",
   "execution_count": 2,
   "id": "73ed3662-2188-4a1f-bb3d-c6528536d112",
   "metadata": {
    "execution": {
     "iopub.execute_input": "2021-10-19T17:55:04.017772Z",
     "iopub.status.busy": "2021-10-19T17:55:04.017185Z",
     "iopub.status.idle": "2021-10-19T17:55:04.019231Z",
     "shell.execute_reply": "2021-10-19T17:55:04.019749Z"
    },
    "papermill": {
     "duration": 0.051063,
     "end_time": "2021-10-19T17:55:04.019958",
     "exception": false,
     "start_time": "2021-10-19T17:55:03.968895",
     "status": "completed"
    },
    "tags": [
     "parameters"
    ]
   },
   "outputs": [],
   "source": [
    "task_id = \"sys_perf_linux_3_node_replSet_last_continuous_fcv_mixed_writes_replica_60e0443449d43bd027e482583ff414a963aa01c5_21_08_05_19_22_39\"\n",
    "metric_name = \"MixedWrites.W3InsertOne.1\"\n",
    "# task_id = \"None\"\n",
    "# metric_name = \"None\""
   ]
  },
  {
   "cell_type": "code",
   "execution_count": 3,
   "id": "d541a293",
   "metadata": {
    "execution": {
     "iopub.execute_input": "2021-10-19T17:55:04.072033Z",
     "iopub.status.busy": "2021-10-19T17:55:04.071415Z",
     "iopub.status.idle": "2021-10-19T17:55:04.073677Z",
     "shell.execute_reply": "2021-10-19T17:55:04.074134Z"
    },
    "papermill": {
     "duration": 0.030182,
     "end_time": "2021-10-19T17:55:04.074301",
     "exception": false,
     "start_time": "2021-10-19T17:55:04.044119",
     "status": "completed"
    },
    "tags": [
     "injected-parameters"
    ]
   },
   "outputs": [],
   "source": [
    "# Parameters\n",
    "task_id = \"sys_perf_linux_3_node_replSet_last_continuous_fcv_mixed_writes_replica_60e0443449d43bd027e482583ff414a963aa01c5_21_08_05_19_22_39\"\n",
    "metric_name = \"MixedWrites.W3InsertOne.1\"\n"
   ]
  },
  {
   "cell_type": "code",
   "execution_count": 4,
   "id": "0440995c-6991-4c5a-b940-d0033dd1fd8b",
   "metadata": {
    "execution": {
     "iopub.execute_input": "2021-10-19T17:55:04.130042Z",
     "iopub.status.busy": "2021-10-19T17:55:04.129443Z",
     "iopub.status.idle": "2021-10-19T17:55:04.274052Z",
     "shell.execute_reply": "2021-10-19T17:55:04.274708Z"
    },
    "papermill": {
     "duration": 0.176479,
     "end_time": "2021-10-19T17:55:04.274977",
     "exception": false,
     "start_time": "2021-10-19T17:55:04.098498",
     "status": "completed"
    },
    "tags": []
   },
   "outputs": [],
   "source": [
    "task_record = requests.get(f\"https://cedar.mongodb.com/rest/v1/perf/task_id/{task_id}\").json()"
   ]
  },
  {
   "cell_type": "code",
   "execution_count": 5,
   "id": "3017602c-c01e-4d68-8706-d7a670ef69f7",
   "metadata": {
    "execution": {
     "iopub.execute_input": "2021-10-19T17:55:04.345850Z",
     "iopub.status.busy": "2021-10-19T17:55:04.344854Z",
     "iopub.status.idle": "2021-10-19T17:55:04.348301Z",
     "shell.execute_reply": "2021-10-19T17:55:04.348801Z"
    },
    "papermill": {
     "duration": 0.041553,
     "end_time": "2021-10-19T17:55:04.349087",
     "exception": false,
     "start_time": "2021-10-19T17:55:04.307534",
     "status": "completed"
    },
    "tags": []
   },
   "outputs": [],
   "source": [
    "tests = [t for t in task_record if metric_name in t[\"info\"][\"test_name\"]]"
   ]
  },
  {
   "cell_type": "code",
   "execution_count": 6,
   "id": "4587b24d-e36a-4ec9-b538-992fa6d84da5",
   "metadata": {
    "execution": {
     "iopub.execute_input": "2021-10-19T17:55:04.416019Z",
     "iopub.status.busy": "2021-10-19T17:55:04.412080Z",
     "iopub.status.idle": "2021-10-19T17:55:04.418013Z",
     "shell.execute_reply": "2021-10-19T17:55:04.417525Z"
    },
    "papermill": {
     "duration": 0.039212,
     "end_time": "2021-10-19T17:55:04.418299",
     "exception": false,
     "start_time": "2021-10-19T17:55:04.379087",
     "status": "completed"
    },
    "tags": []
   },
   "outputs": [],
   "source": [
    "if len(tests) == 0:\n",
    "    raise ValueError(\"The metric requested does not exist\")\n",
    "\n",
    "metric_record = tests[0]"
   ]
  },
  {
   "cell_type": "code",
   "execution_count": 7,
   "id": "28408ac8-370b-4ffd-bdab-d0aad0cd3edb",
   "metadata": {
    "execution": {
     "iopub.execute_input": "2021-10-19T17:55:04.495220Z",
     "iopub.status.busy": "2021-10-19T17:55:04.494555Z",
     "iopub.status.idle": "2021-10-19T17:55:04.496437Z",
     "shell.execute_reply": "2021-10-19T17:55:04.496824Z"
    },
    "papermill": {
     "duration": 0.041442,
     "end_time": "2021-10-19T17:55:04.496993",
     "exception": false,
     "start_time": "2021-10-19T17:55:04.455551",
     "status": "completed"
    },
    "tags": []
   },
   "outputs": [],
   "source": [
    "def make_differential_frame(df, dx):\n",
    "    b = pandas.DataFrame()\n",
    "    b[dx] = df[dx]\n",
    "    b[\"d(t_pure)\"] = df[\"d(t_pure)\"]\n",
    "    b[\"d(t_total)\"] = df[\"d(t_total)\"]\n",
    "    b[\"d(t_overhead)\"] = df[\"d(t_overhead)\"]\n",
    "    \n",
    "    b[\"total_latency\"] = b[\"d(t_total)\"] / b[dx]\n",
    "    b[\"overhead_latency\"] = b[\"d(t_overhead)\"] / b[dx]\n",
    "    b[\"pure_latency\"] = b[\"d(t_pure)\"] / b[dx]\n",
    "    b[\"ts\"] = df[\"ts\"]\n",
    "    b[\"actor_id\"] = df[\"actor_id\"]\n",
    "    \n",
    "    # Have a single row for every sample/increment\n",
    "    b = b.loc[b.index.repeat(b[dx])]\n",
    "    \n",
    "    return b"
   ]
  },
  {
   "cell_type": "code",
   "execution_count": 8,
   "id": "7de14ac6-3094-4ed4-9844-cb910cc08582",
   "metadata": {
    "execution": {
     "iopub.execute_input": "2021-10-19T17:55:04.590993Z",
     "iopub.status.busy": "2021-10-19T17:55:04.590013Z",
     "iopub.status.idle": "2021-10-19T17:55:04.592159Z",
     "shell.execute_reply": "2021-10-19T17:55:04.592736Z"
    },
    "papermill": {
     "duration": 0.039014,
     "end_time": "2021-10-19T17:55:04.592914",
     "exception": false,
     "start_time": "2021-10-19T17:55:04.553900",
     "status": "completed"
    },
    "tags": []
   },
   "outputs": [],
   "source": [
    "def get_data(result):\n",
    "    r = requests.get(result[\"artifacts\"][0][\"download_url\"])\n",
    "    with open(f\"{metric_name}.ftdc\", \"wb\") as f:\n",
    "        f.write(r.content)\n",
    "    try:\n",
    "        subprocess.check_call(f\"rm {metric_name}.csv\", shell=True)\n",
    "    except:\n",
    "        pass\n",
    "    curatorbin.run_curator(\"ftdc\", \"export\", \"csv\", \"--input\", f\"{metric_name}.ftdc\", \"--output\", f\"{metric_name}.csv\")\n",
    "    # subprocess.check_call(f\"curator ftdc export csv --input ./response2.ftdc --output {metric_name}.csv\", shell=True)\n",
    "    df = pandas.read_csv(f\"./{metric_name}.csv\")\n",
    "    return df"
   ]
  },
  {
   "cell_type": "code",
   "execution_count": null,
   "id": "8e1813e7-0764-4878-b578-562f3b818d1a",
   "metadata": {
    "papermill": {
     "duration": null,
     "end_time": null,
     "exception": false,
     "start_time": "2021-10-19T17:55:04.625686",
     "status": "running"
    },
    "tags": []
   },
   "outputs": [],
   "source": [
    "# data, data_differential, data_raw = get_data(metric_record)\n",
    "data = get_data(metric_record)"
   ]
  },
  {
   "cell_type": "code",
   "execution_count": null,
   "id": "ed6ca799-9a4e-4aa6-b6ac-c285cb58a7de",
   "metadata": {
    "papermill": {
     "duration": null,
     "end_time": null,
     "exception": null,
     "start_time": null,
     "status": "pending"
    },
    "tags": []
   },
   "outputs": [],
   "source": [
    "for field in [\"counters.n\", \"counters.ops\", \"counters.size\", \"counters.errors\", \"timers.dur\", \"timers.total\"]:\n",
    "    data[field] = data[field].diff().fillna(data[field])\n",
    "for field in [\"timers.dur\", \"timers.total\"]:\n",
    "    data[field] = data[field] / 1e+9\n",
    "with warnings.catch_warnings():\n",
    "    warnings.simplefilter('ignore')\n",
    "    data[\"ts\"] = pandas.to_datetime(data[\"ts\"])\n",
    "    data[\"ts\"] = data[\"ts\"].dt.to_period(\"1s\") # Sample the timestamps down to 1 second granularity.\n"
   ]
  },
  {
   "cell_type": "code",
   "execution_count": null,
   "id": "7365c10b-3099-4929-89c1-fecc31f1c866",
   "metadata": {
    "papermill": {
     "duration": null,
     "end_time": null,
     "exception": null,
     "start_time": null,
     "status": "pending"
    },
    "tags": []
   },
   "outputs": [],
   "source": [
    "b = pandas.DataFrame()\n",
    "b[\"throughput\"] = data.groupby(\"ts\").count()[\"id\"]\n",
    "b[\"latency\"] = data.groupby(\"ts\").mean()[\"timers.dur\"]\n",
    "b[\"latency-median\"] = data.groupby(\"ts\").median()[\"timers.dur\"]\n",
    "b[\"latency-max\"] = data.groupby(\"ts\").max()[\"timers.dur\"]"
   ]
  },
  {
   "cell_type": "code",
   "execution_count": null,
   "id": "5bbd31de-a783-4f70-87cc-befc37233765",
   "metadata": {
    "papermill": {
     "duration": null,
     "end_time": null,
     "exception": null,
     "start_time": null,
     "status": "pending"
    },
    "tags": []
   },
   "outputs": [],
   "source": [
    "b.plot.area(figsize=(20,8), subplots=True)\n"
   ]
  },
  {
   "cell_type": "code",
   "execution_count": null,
   "id": "0b1a1ff1-7b46-4b72-a27d-cc007be37276",
   "metadata": {
    "papermill": {
     "duration": null,
     "end_time": null,
     "exception": null,
     "start_time": null,
     "status": "pending"
    },
    "tags": []
   },
   "outputs": [],
   "source": []
  },
  {
   "cell_type": "code",
   "execution_count": null,
   "id": "71b0abc0-eee9-43d7-87ff-f943f2131625",
   "metadata": {
    "papermill": {
     "duration": null,
     "end_time": null,
     "exception": null,
     "start_time": null,
     "status": "pending"
    },
    "tags": []
   },
   "outputs": [],
   "source": []
  }
 ],
 "metadata": {
  "kernelspec": {
   "display_name": "Python 3 (ipykernel)",
   "language": "python",
   "name": "python3"
  },
  "language_info": {
   "codemirror_mode": {
    "name": "ipython",
    "version": 3
   },
   "file_extension": ".py",
   "mimetype": "text/x-python",
   "name": "python",
   "nbconvert_exporter": "python",
   "pygments_lexer": "ipython3",
   "version": "3.9.6"
  },
  "papermill": {
   "default_parameters": {},
   "duration": null,
   "end_time": null,
   "environment_variables": {},
   "exception": null,
   "input_path": "/Users/vrachev/github/jupyter-notebook-service/server/simple_ftdc.ipynb",
   "output_path": "/Users/vrachev/github/jupyter-notebook-service/server/MixedWrites.W3InsertOne.1.ipynb",
   "parameters": {
    "metric_name": "MixedWrites.W3InsertOne.1",
    "task_id": "sys_perf_linux_3_node_replSet_last_continuous_fcv_mixed_writes_replica_60e0443449d43bd027e482583ff414a963aa01c5_21_08_05_19_22_39"
   },
   "start_time": "2021-10-19T17:55:01.089495",
   "version": "2.3.3"
  }
 },
 "nbformat": 4,
 "nbformat_minor": 5
}